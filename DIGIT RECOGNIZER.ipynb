{
 "cells": [
  {
   "cell_type": "code",
   "execution_count": 1,
   "id": "initial_id",
   "metadata": {
    "collapsed": true,
    "ExecuteTime": {
     "end_time": "2024-07-26T09:28:56.643970Z",
     "start_time": "2024-07-26T09:28:54.294834Z"
    }
   },
   "outputs": [],
   "source": [
    "from torch.utils.data import random_split, DataLoader, Dataset\n",
    "from ignite.engine import create_supervised_trainer, create_supervised_evaluator, Engine\n",
    "from ignite.metrics import Accuracy, Loss, Precision, Recall\n",
    "from IPython.display import clear_output\n",
    "import pandas as pd\n",
    "import torch.nn as nn\n",
    "from torchsummary import summary\n",
    "import matplotlib.pyplot as plt\n",
    "import numpy as np\n",
    "from torch.utils.data import DataLoader\n",
    "import torch\n",
    "from torchvision import transforms\n",
    "from torch.utils.data import Dataset\n",
    "from PIL import Image\n",
    "from ignite.engine import Events"
   ]
  },
  {
   "cell_type": "code",
   "execution_count": 2,
   "outputs": [],
   "source": [
    "BATCH_SIZE = 128\n",
    "learning_rate = 1e-3\n",
    "device = 'cuda:0' if torch.cuda.is_available() else 'cpu'"
   ],
   "metadata": {
    "collapsed": false,
    "ExecuteTime": {
     "end_time": "2024-07-26T09:28:56.659068Z",
     "start_time": "2024-07-26T09:28:56.645268Z"
    }
   },
   "id": "c2b910b33a35a487"
  },
  {
   "cell_type": "code",
   "execution_count": 3,
   "outputs": [
    {
     "data": {
      "text/plain": "   label  pixel0  pixel1  pixel2  pixel3  pixel4  pixel5  pixel6  pixel7  \\\n0      1       0       0       0       0       0       0       0       0   \n\n   pixel8  ...  pixel774  pixel775  pixel776  pixel777  pixel778  pixel779  \\\n0       0  ...         0         0         0         0         0         0   \n\n   pixel780  pixel781  pixel782  pixel783  \n0         0         0         0         0  \n\n[1 rows x 785 columns]",
      "text/html": "<div>\n<style scoped>\n    .dataframe tbody tr th:only-of-type {\n        vertical-align: middle;\n    }\n\n    .dataframe tbody tr th {\n        vertical-align: top;\n    }\n\n    .dataframe thead th {\n        text-align: right;\n    }\n</style>\n<table border=\"1\" class=\"dataframe\">\n  <thead>\n    <tr style=\"text-align: right;\">\n      <th></th>\n      <th>label</th>\n      <th>pixel0</th>\n      <th>pixel1</th>\n      <th>pixel2</th>\n      <th>pixel3</th>\n      <th>pixel4</th>\n      <th>pixel5</th>\n      <th>pixel6</th>\n      <th>pixel7</th>\n      <th>pixel8</th>\n      <th>...</th>\n      <th>pixel774</th>\n      <th>pixel775</th>\n      <th>pixel776</th>\n      <th>pixel777</th>\n      <th>pixel778</th>\n      <th>pixel779</th>\n      <th>pixel780</th>\n      <th>pixel781</th>\n      <th>pixel782</th>\n      <th>pixel783</th>\n    </tr>\n  </thead>\n  <tbody>\n    <tr>\n      <th>0</th>\n      <td>1</td>\n      <td>0</td>\n      <td>0</td>\n      <td>0</td>\n      <td>0</td>\n      <td>0</td>\n      <td>0</td>\n      <td>0</td>\n      <td>0</td>\n      <td>0</td>\n      <td>...</td>\n      <td>0</td>\n      <td>0</td>\n      <td>0</td>\n      <td>0</td>\n      <td>0</td>\n      <td>0</td>\n      <td>0</td>\n      <td>0</td>\n      <td>0</td>\n      <td>0</td>\n    </tr>\n  </tbody>\n</table>\n<p>1 rows × 785 columns</p>\n</div>"
     },
     "execution_count": 3,
     "metadata": {},
     "output_type": "execute_result"
    }
   ],
   "source": [
    "train_df, test_df = pd.read_csv('digit-recognizer/train.csv'), pd.read_csv('digit-recognizer/test.csv')\n",
    "train_df.head(1)"
   ],
   "metadata": {
    "collapsed": false,
    "ExecuteTime": {
     "end_time": "2024-07-26T09:28:58.429915Z",
     "start_time": "2024-07-26T09:28:56.647456Z"
    }
   },
   "id": "fc95a9d1a71cf97e"
  },
  {
   "cell_type": "markdown",
   "source": [
    "# Dataset Preparation"
   ],
   "metadata": {
    "collapsed": false
   },
   "id": "159acfe4e1fba98d"
  },
  {
   "cell_type": "code",
   "execution_count": 4,
   "outputs": [],
   "source": [
    "from PIL import Image\n",
    "from torchvision import transforms\n",
    "import numpy as np\n",
    "import pandas as pd\n",
    "from torch.utils.data import Dataset\n",
    "\n",
    "class Data(Dataset):\n",
    "    def __init__(self, data_, transform):\n",
    "        self.data = data_\n",
    "        self.transform = transform\n",
    "\n",
    "    def __getitem__(self, idx):\n",
    "        sample = self.data.iloc[idx]\n",
    "        if 'label' in self.data.columns:\n",
    "            label = sample['label']\n",
    "            pixels = np.array(sample[1:].values).astype(np.uint8).reshape(28, 28)\n",
    "        else:\n",
    "            label = ''\n",
    "            pixels = np.array(sample.values).astype(np.uint8).reshape(28, 28)\n",
    "        image = Image.fromarray(pixels)\n",
    "        if self.transform:\n",
    "            image = self.transform(image)\n",
    "        return image, label\n",
    "            \n",
    "\n",
    "    def show_images(self, idx):\n",
    "        img = self.data.iloc[idx]\n",
    "        if 'label' in self.data.columns:\n",
    "            pixels = np.array(img[1:].values).astype(np.uint8).reshape(28, 28) \n",
    "        else:\n",
    "            pixels = np.array(img.values).astype(np.uint8).reshape(28, 28) \n",
    "        image = Image.fromarray(pixels)\n",
    "        return image\n",
    "\n",
    "    def __len__(self):\n",
    "        return len(self.data)"
   ],
   "metadata": {
    "collapsed": false,
    "ExecuteTime": {
     "end_time": "2024-07-26T09:28:58.441054Z",
     "start_time": "2024-07-26T09:28:58.432769Z"
    }
   },
   "id": "74234b9b12a8dd01"
  },
  {
   "cell_type": "code",
   "execution_count": 5,
   "outputs": [],
   "source": [
    "transform_ = transforms.Compose([\n",
    "    transforms.Resize((28, 28)),\n",
    "    transforms.ToTensor(),\n",
    "])\n",
    "data = Data(data_ = train_df, transform=transform_)\n",
    "test = Data(data_ = test_df, transform=transform_)"
   ],
   "metadata": {
    "collapsed": false,
    "ExecuteTime": {
     "end_time": "2024-07-26T09:28:58.441302Z",
     "start_time": "2024-07-26T09:28:58.436027Z"
    }
   },
   "id": "9c44f2294c8ce8be"
  },
  {
   "cell_type": "code",
   "execution_count": 6,
   "outputs": [],
   "source": [
    "def show_transformed(dataset):\n",
    "    figure = plt.figure(figsize=(8, 8))\n",
    "    cols, rows = 3, 3\n",
    "    for i in range(1, cols * rows + 1):\n",
    "        # to pick random images\n",
    "        sample_idx = torch.randint(len(dataset), size=(1,)).item()\n",
    "        _, label = dataset[sample_idx]\n",
    "        figure.add_subplot(rows, cols, i)\n",
    "        plt.title(label)\n",
    "        plt.axis(\"off\")\n",
    "        # call a function\n",
    "        plt.imshow(dataset.show_images(sample_idx))\n",
    "    plt.show()"
   ],
   "metadata": {
    "collapsed": false,
    "ExecuteTime": {
     "end_time": "2024-07-26T09:28:58.441367Z",
     "start_time": "2024-07-26T09:28:58.439389Z"
    }
   },
   "id": "654f4a931a736598"
  },
  {
   "cell_type": "code",
   "execution_count": 7,
   "outputs": [
    {
     "data": {
      "text/plain": "<Figure size 800x800 with 9 Axes>",
      "image/png": "[encoded data removed]"
     },
     "metadata": {},
     "output_type": "display_data"
    }
   ],
   "source": [
    "show_transformed(dataset = test)"
   ],
   "metadata": {
    "collapsed": false,
    "ExecuteTime": {
     "end_time": "2024-07-26T09:28:58.572936Z",
     "start_time": "2024-07-26T09:28:58.441969Z"
    }
   },
   "id": "bb09cca1a8532de8"
  },
  {
   "cell_type": "markdown",
   "source": [
    "# Train Validation Split"
   ],
   "metadata": {
    "collapsed": false
   },
   "id": "584f2b63a6808691"
  },
  {
   "cell_type": "code",
   "execution_count": 8,
   "outputs": [],
   "source": [
    "dataset_length = len(data)\n",
    "train_size = int(0.95 * dataset_length)\n",
    "test_size = dataset_length - train_size\n",
    "train_df, validation_df = random_split(data, [train_size, test_size])"
   ],
   "metadata": {
    "collapsed": false,
    "ExecuteTime": {
     "end_time": "2024-07-26T09:28:59.772709Z",
     "start_time": "2024-07-26T09:28:59.745895Z"
    }
   },
   "id": "814cb7fe6280d8ee"
  },
  {
   "cell_type": "code",
   "execution_count": 9,
   "outputs": [],
   "source": [
    "train_loader = DataLoader(train_df, batch_size=BATCH_SIZE)\n",
    "validation_loader = DataLoader(validation_df, batch_size=BATCH_SIZE)"
   ],
   "metadata": {
    "collapsed": false,
    "ExecuteTime": {
     "end_time": "2024-07-26T09:29:00.211526Z",
     "start_time": "2024-07-26T09:29:00.205479Z"
    }
   },
   "id": "57afa176df3b8e9b"
  },
  {
   "cell_type": "markdown",
   "source": [
    "# The first model type: fully connected network"
   ],
   "metadata": {
    "collapsed": false
   },
   "id": "2447ecc3a31034d1"
  },
  {
   "cell_type": "code",
   "execution_count": 10,
   "outputs": [],
   "source": [
    "class Linear_Model(nn.Module):\n",
    "    def __init__(self, *args, **kwargs):\n",
    "        super().__init__(*args, **kwargs)\n",
    "        self.flatten = nn.Flatten()\n",
    "        self.ln1 = nn.Linear(in_features=28*28, out_features=256)\n",
    "        self.relu1 = nn.ReLU(inplace=True)\n",
    "        self.ln2 = nn.Linear(in_features=256, out_features=512)\n",
    "        self.relu2 = nn.ReLU(inplace=True)\n",
    "        self.ln3 = nn.Linear(in_features=512, out_features=10)\n",
    "        self.softmax = nn.Softmax()\n",
    "    def forward(self, x):\n",
    "        x = self.flatten(x)\n",
    "        x = self.relu1(self.ln1(x))  \n",
    "        x = self.relu2(self.ln2(x))\n",
    "        x = self.softmax(self.ln3(x))\n",
    "        return x"
   ],
   "metadata": {
    "collapsed": false,
    "ExecuteTime": {
     "end_time": "2024-07-26T09:29:00.558900Z",
     "start_time": "2024-07-26T09:29:00.554707Z"
    }
   },
   "id": "89c3b6baf0ca5b81"
  },
  {
   "cell_type": "code",
   "execution_count": 11,
   "outputs": [
    {
     "name": "stdout",
     "output_type": "stream",
     "text": [
      "----------------------------------------------------------------\n",
      "        Layer (type)               Output Shape         Param #\n",
      "================================================================\n",
      "           Flatten-1                  [-1, 784]               0\n",
      "            Linear-2                  [-1, 256]         200,960\n",
      "              ReLU-3                  [-1, 256]               0\n",
      "            Linear-4                  [-1, 512]         131,584\n",
      "              ReLU-5                  [-1, 512]               0\n",
      "            Linear-6                   [-1, 10]           5,130\n",
      "           Softmax-7                   [-1, 10]               0\n",
      "================================================================\n",
      "Total params: 337,674\n",
      "Trainable params: 337,674\n",
      "Non-trainable params: 0\n",
      "----------------------------------------------------------------\n",
      "Input size (MB): 0.00\n",
      "Forward/backward pass size (MB): 0.02\n",
      "Params size (MB): 1.29\n",
      "Estimated Total Size (MB): 1.31\n",
      "----------------------------------------------------------------\n",
      "None\n"
     ]
    },
    {
     "name": "stderr",
     "output_type": "stream",
     "text": [
      "/Users/boris/anaconda3/lib/python3.11/site-packages/torch/nn/modules/module.py:1518: UserWarning: Implicit dimension choice for softmax has been deprecated. Change the call to include dim=X as an argument.\n",
      "  return self._call_impl(*args, **kwargs)\n"
     ]
    }
   ],
   "source": [
    "linear_model = Linear_Model().to(device)\n",
    "image = torch.rand((1, 1, 28, 28)).to(device)\n",
    "output = linear_model(image)\n",
    "print(summary(linear_model,input_size=(1,28,28)))"
   ],
   "metadata": {
    "collapsed": false,
    "ExecuteTime": {
     "end_time": "2024-07-26T09:29:00.738926Z",
     "start_time": "2024-07-26T09:29:00.730974Z"
    }
   },
   "id": "6eca9e8db6c7dae8"
  },
  {
   "cell_type": "markdown",
   "source": [
    "# Traininig and evaluation \n"
   ],
   "metadata": {
    "collapsed": false
   },
   "id": "450cf4c9b6e77361"
  },
  {
   "cell_type": "code",
   "execution_count": 12,
   "outputs": [],
   "source": [
    "optimizer = torch.optim.Adam(linear_model.parameters(), lr=learning_rate)\n",
    "loss_type = torch.nn.CrossEntropyLoss()\n",
    "epochs = 10\n",
    "train_loss, validation_loss = [], []\n",
    "train_accuracy, validation_accuracy = [], []"
   ],
   "metadata": {
    "collapsed": false,
    "ExecuteTime": {
     "end_time": "2024-07-26T09:29:01.390514Z",
     "start_time": "2024-07-26T09:29:01.378238Z"
    }
   },
   "id": "f6abd47eaa600f6f"
  },
  {
   "cell_type": "code",
   "execution_count": 13,
   "outputs": [],
   "source": [
    "def training_and_evaluating(model, optimizer, loss_type, device):\n",
    "    for epoch in range(1, epochs + 1):\n",
    "\n",
    "        def draw_plots(train_accuracy, validation_accuracy, train_loss, validation_loss):\n",
    "            fig, axes = plt.subplots(2, 2, figsize=(15, 10))\n",
    "\n",
    "            axes[0][0].plot(train_accuracy, color = 'blue', linestyle = '--', label = 'Train Accuracy')\n",
    "            axes[0][0].set_ylabel('Accuracy')\n",
    "            axes[0][0].set_xlabel('Epochs')\n",
    "            axes[0][0].legend()\n",
    "\n",
    "            axes[0][1].plot(validation_accuracy, color = 'red', linestyle = '--', label = 'Validation Accuracy')\n",
    "            axes[0][1].set_ylabel('Accuracy')\n",
    "            axes[0][1].set_xlabel('Epochs')\n",
    "            axes[0][1].legend()\n",
    "\n",
    "            axes[1][0].plot(train_loss, color = 'blue', linestyle = '--', label = 'Train Loss')\n",
    "            axes[1][0].set_ylabel('Loss')\n",
    "            axes[1][0].set_xlabel('Epochs')\n",
    "            axes[1][0].legend()\n",
    "\n",
    "            axes[1][1].plot(validation_loss, color = 'red', linestyle = '--', label = 'Validation Loss')\n",
    "            axes[1][1].set_ylabel('Loss')\n",
    "            axes[1][1].set_xlabel('Epochs')\n",
    "            axes[1][1].legend()\n",
    "\n",
    "        def print_epoch_results(engine, type=''):\n",
    "            result = \"\\t\".join([f\"{i}:{j}\" for i, j in engine.state.metrics.items()])\n",
    "            print(f\"Results after {type} epoch:\", result)\n",
    "\n",
    "        def one_epoch(engine):\n",
    "            # evaluate on trainig and validation datasets\n",
    "            train_eval.run(train_loader)\n",
    "            valid_eval.run(validation_loader)\n",
    "\n",
    "            # extract metrics from engine\n",
    "            validation_results = valid_eval.state.metrics\n",
    "            train_results = train_eval.state.metrics\n",
    "\n",
    "            # metrics are stored into dictionary\n",
    "            train_accuracy.append(round(train_results['Accuracy'], 4))\n",
    "            validation_accuracy.append(round(validation_results['Accuracy'], 4))\n",
    "            train_loss.append(train_results['Loss'])\n",
    "            validation_loss.append(validation_results['Loss'])\n",
    "\n",
    "            # dynamically sketch plots\n",
    "            # draw_plots(train_accuracy, validation_accuracy,\n",
    "            #            train_loss, validation_loss)\n",
    "\n",
    "        # clear the grid before new epoch \n",
    "        def clear_output_handler(engine):\n",
    "            clear_output(wait=True)\n",
    "\n",
    "        trainer = create_supervised_trainer(model, optimizer, loss_type, device)\n",
    "\n",
    "        # choose metrics to show\n",
    "        metrics_for_task = {\n",
    "            \"Accuracy\": Accuracy(),\n",
    "            # \"Precision\": Precision().mean(),\n",
    "            # \"Recall\": Recall().mean(),\n",
    "            \"Loss\": Loss(loss_type)\n",
    "        }\n",
    "\n",
    "        train_eval = create_supervised_evaluator(model, device=device, metrics=metrics_for_task)\n",
    "        valid_eval = create_supervised_evaluator(model, device=device, metrics=metrics_for_task)\n",
    "\n",
    "        # start new epoch\n",
    "        trainer.add_event_handler(Events.EPOCH_COMPLETED, one_epoch)\n",
    "\n",
    "        # draw graphs during the epoch\n",
    "        # trainer.add_event_handler(Events.ITERATION_COMPLETED(every=25), draw_plots(train_accuracy,\n",
    "        #                                                                            validation_accuracy,\n",
    "        #                                                                            train_loss,\n",
    "        #                                                                            validation_loss))\n",
    "\n",
    "        # print train and validation results\n",
    "        train_eval.add_event_handler(Events.EPOCH_COMPLETED, print_epoch_results, type=\"Train\")\n",
    "        valid_eval.add_event_handler(Events.EPOCH_COMPLETED, print_epoch_results, type=\"Validation\")\n",
    "\n",
    "        print(f'Epoch {epoch} from {epochs}')\n",
    "        # train model\n",
    "        trainer.run(train_loader)"
   ],
   "metadata": {
    "collapsed": false,
    "ExecuteTime": {
     "end_time": "2024-07-26T09:29:01.699355Z",
     "start_time": "2024-07-26T09:29:01.696907Z"
    }
   },
   "id": "91ff1decc95e5f24"
  },
  {
   "cell_type": "code",
   "execution_count": 14,
   "outputs": [
    {
     "name": "stdout",
     "output_type": "stream",
     "text": [
      "Results after Train epoch: Accuracy:0.9175187969924812\tLoss:1.5488659147869674\n",
      "Results after Validation epoch: Accuracy:0.9128571428571428\tLoss:1.556331031436012\n"
     ]
    },
    {
     "data": {
      "text/plain": "<Figure size 1200x800 with 4 Axes>",
      "image/png": "[encoded data removed]"
     },
     "metadata": {},
     "output_type": "display_data"
    },
    {
     "name": "stdout",
     "output_type": "stream",
     "text": [
      "Epoch 2 from 10\n"
     ]
    },
    {
     "name": "stderr",
     "output_type": "stream",
     "text": [
      "Engine run is terminating due to exception: \n"
     ]
    },
    {
     "ename": "KeyboardInterrupt",
     "evalue": "",
     "output_type": "error",
     "traceback": [
      "\u001B[0;31m---------------------------------------------------------------------------\u001B[0m",
      "\u001B[0;31mKeyboardInterrupt\u001B[0m                         Traceback (most recent call last)",
      "Cell \u001B[0;32mIn[14], line 1\u001B[0m\n\u001B[0;32m----> 1\u001B[0m training_and_evaluating(model \u001B[38;5;241m=\u001B[39m linear_model, optimizer \u001B[38;5;241m=\u001B[39m optimizer, loss_type\u001B[38;5;241m=\u001B[39mloss_type, device \u001B[38;5;241m=\u001B[39m device)\n",
      "Cell \u001B[0;32mIn[13], line 82\u001B[0m, in \u001B[0;36mtraining_and_evaluating\u001B[0;34m(model, optimizer, loss_type, device)\u001B[0m\n\u001B[1;32m     79\u001B[0m valid_eval\u001B[38;5;241m.\u001B[39madd_event_handler(Events\u001B[38;5;241m.\u001B[39mEPOCH_COMPLETED, print_epoch_results, \u001B[38;5;28mtype\u001B[39m\u001B[38;5;241m=\u001B[39m\u001B[38;5;124m\"\u001B[39m\u001B[38;5;124mValidation\u001B[39m\u001B[38;5;124m\"\u001B[39m)\n\u001B[1;32m     81\u001B[0m \u001B[38;5;66;03m# train model\u001B[39;00m\n\u001B[0;32m---> 82\u001B[0m trainer\u001B[38;5;241m.\u001B[39mrun(train_loader)\n",
      "File \u001B[0;32m~/anaconda3/lib/python3.11/site-packages/ignite/engine/engine.py:898\u001B[0m, in \u001B[0;36mEngine.run\u001B[0;34m(self, data, max_epochs, epoch_length, seed)\u001B[0m\n\u001B[1;32m    895\u001B[0m     \u001B[38;5;28mself\u001B[39m\u001B[38;5;241m.\u001B[39mstate\u001B[38;5;241m.\u001B[39mdataloader \u001B[38;5;241m=\u001B[39m data\n\u001B[1;32m    897\u001B[0m \u001B[38;5;28;01mif\u001B[39;00m \u001B[38;5;28mself\u001B[39m\u001B[38;5;241m.\u001B[39minterrupt_resume_enabled:\n\u001B[0;32m--> 898\u001B[0m     \u001B[38;5;28;01mreturn\u001B[39;00m \u001B[38;5;28mself\u001B[39m\u001B[38;5;241m.\u001B[39m_internal_run()\n\u001B[1;32m    899\u001B[0m \u001B[38;5;28;01melse\u001B[39;00m:\n\u001B[1;32m    900\u001B[0m     \u001B[38;5;28;01mreturn\u001B[39;00m \u001B[38;5;28mself\u001B[39m\u001B[38;5;241m.\u001B[39m_internal_run_legacy()\n",
      "File \u001B[0;32m~/anaconda3/lib/python3.11/site-packages/ignite/engine/engine.py:941\u001B[0m, in \u001B[0;36mEngine._internal_run\u001B[0;34m(self)\u001B[0m\n\u001B[1;32m    939\u001B[0m     \u001B[38;5;28mself\u001B[39m\u001B[38;5;241m.\u001B[39m_internal_run_generator \u001B[38;5;241m=\u001B[39m \u001B[38;5;28mself\u001B[39m\u001B[38;5;241m.\u001B[39m_internal_run_as_gen()\n\u001B[1;32m    940\u001B[0m \u001B[38;5;28;01mtry\u001B[39;00m:\n\u001B[0;32m--> 941\u001B[0m     \u001B[38;5;28;01mreturn\u001B[39;00m \u001B[38;5;28mnext\u001B[39m(\u001B[38;5;28mself\u001B[39m\u001B[38;5;241m.\u001B[39m_internal_run_generator)\n\u001B[1;32m    942\u001B[0m \u001B[38;5;28;01mexcept\u001B[39;00m \u001B[38;5;167;01mStopIteration\u001B[39;00m \u001B[38;5;28;01mas\u001B[39;00m out:\n\u001B[1;32m    943\u001B[0m     \u001B[38;5;28mself\u001B[39m\u001B[38;5;241m.\u001B[39m_internal_run_generator \u001B[38;5;241m=\u001B[39m \u001B[38;5;28;01mNone\u001B[39;00m\n",
      "File \u001B[0;32m~/anaconda3/lib/python3.11/site-packages/ignite/engine/engine.py:999\u001B[0m, in \u001B[0;36mEngine._internal_run_as_gen\u001B[0;34m(self)\u001B[0m\n\u001B[1;32m    997\u001B[0m     \u001B[38;5;28mself\u001B[39m\u001B[38;5;241m.\u001B[39m_dataloader_iter \u001B[38;5;241m=\u001B[39m \u001B[38;5;28;01mNone\u001B[39;00m\n\u001B[1;32m    998\u001B[0m     \u001B[38;5;28mself\u001B[39m\u001B[38;5;241m.\u001B[39mlogger\u001B[38;5;241m.\u001B[39merror(\u001B[38;5;124mf\u001B[39m\u001B[38;5;124m\"\u001B[39m\u001B[38;5;124mEngine run is terminating due to exception: \u001B[39m\u001B[38;5;132;01m{\u001B[39;00me\u001B[38;5;132;01m}\u001B[39;00m\u001B[38;5;124m\"\u001B[39m)\n\u001B[0;32m--> 999\u001B[0m     \u001B[38;5;28mself\u001B[39m\u001B[38;5;241m.\u001B[39m_handle_exception(e)\n\u001B[1;32m   1001\u001B[0m \u001B[38;5;28mself\u001B[39m\u001B[38;5;241m.\u001B[39m_dataloader_iter \u001B[38;5;241m=\u001B[39m \u001B[38;5;28;01mNone\u001B[39;00m\n\u001B[1;32m   1002\u001B[0m \u001B[38;5;28;01mreturn\u001B[39;00m \u001B[38;5;28mself\u001B[39m\u001B[38;5;241m.\u001B[39mstate\n",
      "File \u001B[0;32m~/anaconda3/lib/python3.11/site-packages/ignite/engine/engine.py:644\u001B[0m, in \u001B[0;36mEngine._handle_exception\u001B[0;34m(self, e)\u001B[0m\n\u001B[1;32m    642\u001B[0m     \u001B[38;5;28mself\u001B[39m\u001B[38;5;241m.\u001B[39m_fire_event(Events\u001B[38;5;241m.\u001B[39mEXCEPTION_RAISED, e)\n\u001B[1;32m    643\u001B[0m \u001B[38;5;28;01melse\u001B[39;00m:\n\u001B[0;32m--> 644\u001B[0m     \u001B[38;5;28;01mraise\u001B[39;00m e\n",
      "File \u001B[0;32m~/anaconda3/lib/python3.11/site-packages/ignite/engine/engine.py:965\u001B[0m, in \u001B[0;36mEngine._internal_run_as_gen\u001B[0;34m(self)\u001B[0m\n\u001B[1;32m    962\u001B[0m \u001B[38;5;28;01mif\u001B[39;00m \u001B[38;5;28mself\u001B[39m\u001B[38;5;241m.\u001B[39m_dataloader_iter \u001B[38;5;129;01mis\u001B[39;00m \u001B[38;5;28;01mNone\u001B[39;00m:\n\u001B[1;32m    963\u001B[0m     \u001B[38;5;28mself\u001B[39m\u001B[38;5;241m.\u001B[39m_setup_engine()\n\u001B[0;32m--> 965\u001B[0m epoch_time_taken \u001B[38;5;241m+\u001B[39m\u001B[38;5;241m=\u001B[39m \u001B[38;5;28;01myield from\u001B[39;00m \u001B[38;5;28mself\u001B[39m\u001B[38;5;241m.\u001B[39m_run_once_on_dataset_as_gen()\n\u001B[1;32m    967\u001B[0m \u001B[38;5;66;03m# time is available for handlers but must be updated after fire\u001B[39;00m\n\u001B[1;32m    968\u001B[0m \u001B[38;5;28mself\u001B[39m\u001B[38;5;241m.\u001B[39mstate\u001B[38;5;241m.\u001B[39mtimes[Events\u001B[38;5;241m.\u001B[39mEPOCH_COMPLETED\u001B[38;5;241m.\u001B[39mname] \u001B[38;5;241m=\u001B[39m epoch_time_taken\n",
      "File \u001B[0;32m~/anaconda3/lib/python3.11/site-packages/ignite/engine/engine.py:1074\u001B[0m, in \u001B[0;36mEngine._run_once_on_dataset_as_gen\u001B[0;34m(self)\u001B[0m\n\u001B[1;32m   1071\u001B[0m \u001B[38;5;28mself\u001B[39m\u001B[38;5;241m.\u001B[39m_fire_event(Events\u001B[38;5;241m.\u001B[39mITERATION_STARTED)\n\u001B[1;32m   1072\u001B[0m \u001B[38;5;28;01myield from\u001B[39;00m \u001B[38;5;28mself\u001B[39m\u001B[38;5;241m.\u001B[39m_maybe_terminate_or_interrupt()\n\u001B[0;32m-> 1074\u001B[0m \u001B[38;5;28mself\u001B[39m\u001B[38;5;241m.\u001B[39mstate\u001B[38;5;241m.\u001B[39moutput \u001B[38;5;241m=\u001B[39m \u001B[38;5;28mself\u001B[39m\u001B[38;5;241m.\u001B[39m_process_function(\u001B[38;5;28mself\u001B[39m, \u001B[38;5;28mself\u001B[39m\u001B[38;5;241m.\u001B[39mstate\u001B[38;5;241m.\u001B[39mbatch)\n\u001B[1;32m   1075\u001B[0m \u001B[38;5;28mself\u001B[39m\u001B[38;5;241m.\u001B[39m_fire_event(Events\u001B[38;5;241m.\u001B[39mITERATION_COMPLETED)\n\u001B[1;32m   1076\u001B[0m \u001B[38;5;28;01myield from\u001B[39;00m \u001B[38;5;28mself\u001B[39m\u001B[38;5;241m.\u001B[39m_maybe_terminate_or_interrupt()\n",
      "File \u001B[0;32m~/anaconda3/lib/python3.11/site-packages/ignite/engine/__init__.py:112\u001B[0m, in \u001B[0;36msupervised_training_step.<locals>.update\u001B[0;34m(engine, batch)\u001B[0m\n\u001B[1;32m    110\u001B[0m model\u001B[38;5;241m.\u001B[39mtrain()\n\u001B[1;32m    111\u001B[0m x, y \u001B[38;5;241m=\u001B[39m prepare_batch(batch, device\u001B[38;5;241m=\u001B[39mdevice, non_blocking\u001B[38;5;241m=\u001B[39mnon_blocking)\n\u001B[0;32m--> 112\u001B[0m output \u001B[38;5;241m=\u001B[39m model_fn(model, x)\n\u001B[1;32m    113\u001B[0m y_pred \u001B[38;5;241m=\u001B[39m model_transform(output)\n\u001B[1;32m    114\u001B[0m loss \u001B[38;5;241m=\u001B[39m loss_fn(y_pred, y)\n",
      "File \u001B[0;32m~/anaconda3/lib/python3.11/site-packages/ignite/engine/__init__.py:434\u001B[0m, in \u001B[0;36m<lambda>\u001B[0;34m(model, x)\u001B[0m\n\u001B[1;32m    417\u001B[0m     \u001B[38;5;28;01melse\u001B[39;00m:\n\u001B[1;32m    418\u001B[0m         \u001B[38;5;28;01mreturn\u001B[39;00m amp_mode, \u001B[38;5;28;01mNone\u001B[39;00m\n\u001B[1;32m    421\u001B[0m \u001B[38;5;28;01mdef\u001B[39;00m \u001B[38;5;21mcreate_supervised_trainer\u001B[39m(\n\u001B[1;32m    422\u001B[0m     model: torch\u001B[38;5;241m.\u001B[39mnn\u001B[38;5;241m.\u001B[39mModule,\n\u001B[1;32m    423\u001B[0m     optimizer: torch\u001B[38;5;241m.\u001B[39moptim\u001B[38;5;241m.\u001B[39mOptimizer,\n\u001B[1;32m    424\u001B[0m     loss_fn: Union[Callable[[Any, Any], torch\u001B[38;5;241m.\u001B[39mTensor], torch\u001B[38;5;241m.\u001B[39mnn\u001B[38;5;241m.\u001B[39mModule],\n\u001B[1;32m    425\u001B[0m     device: Optional[Union[\u001B[38;5;28mstr\u001B[39m, torch\u001B[38;5;241m.\u001B[39mdevice]] \u001B[38;5;241m=\u001B[39m \u001B[38;5;28;01mNone\u001B[39;00m,\n\u001B[1;32m    426\u001B[0m     non_blocking: \u001B[38;5;28mbool\u001B[39m \u001B[38;5;241m=\u001B[39m \u001B[38;5;28;01mFalse\u001B[39;00m,\n\u001B[1;32m    427\u001B[0m     prepare_batch: Callable \u001B[38;5;241m=\u001B[39m _prepare_batch,\n\u001B[1;32m    428\u001B[0m     model_transform: Callable[[Any], Any] \u001B[38;5;241m=\u001B[39m \u001B[38;5;28;01mlambda\u001B[39;00m output: output,\n\u001B[1;32m    429\u001B[0m     output_transform: Callable[[Any, Any, Any, torch\u001B[38;5;241m.\u001B[39mTensor], Any] \u001B[38;5;241m=\u001B[39m \u001B[38;5;28;01mlambda\u001B[39;00m x, y, y_pred, loss: loss\u001B[38;5;241m.\u001B[39mitem(),\n\u001B[1;32m    430\u001B[0m     deterministic: \u001B[38;5;28mbool\u001B[39m \u001B[38;5;241m=\u001B[39m \u001B[38;5;28;01mFalse\u001B[39;00m,\n\u001B[1;32m    431\u001B[0m     amp_mode: Optional[\u001B[38;5;28mstr\u001B[39m] \u001B[38;5;241m=\u001B[39m \u001B[38;5;28;01mNone\u001B[39;00m,\n\u001B[1;32m    432\u001B[0m     scaler: Union[\u001B[38;5;28mbool\u001B[39m, \u001B[38;5;124m\"\u001B[39m\u001B[38;5;124mtorch.cuda.amp.GradScaler\u001B[39m\u001B[38;5;124m\"\u001B[39m] \u001B[38;5;241m=\u001B[39m \u001B[38;5;28;01mFalse\u001B[39;00m,\n\u001B[1;32m    433\u001B[0m     gradient_accumulation_steps: \u001B[38;5;28mint\u001B[39m \u001B[38;5;241m=\u001B[39m \u001B[38;5;241m1\u001B[39m,\n\u001B[0;32m--> 434\u001B[0m     model_fn: Callable[[torch\u001B[38;5;241m.\u001B[39mnn\u001B[38;5;241m.\u001B[39mModule, Any], Any] \u001B[38;5;241m=\u001B[39m \u001B[38;5;28;01mlambda\u001B[39;00m model, x: model(x),\n\u001B[1;32m    435\u001B[0m ) \u001B[38;5;241m-\u001B[39m\u001B[38;5;241m>\u001B[39m Engine:\n\u001B[1;32m    436\u001B[0m \u001B[38;5;250m    \u001B[39m\u001B[38;5;124;03m\"\"\"Factory function for creating a trainer for supervised models.\u001B[39;00m\n\u001B[1;32m    437\u001B[0m \n\u001B[1;32m    438\u001B[0m \u001B[38;5;124;03m    Args:\u001B[39;00m\n\u001B[0;32m   (...)\u001B[0m\n\u001B[1;32m    548\u001B[0m \u001B[38;5;124;03m        Added `model_fn` to customize model's application on the sample\u001B[39;00m\n\u001B[1;32m    549\u001B[0m \u001B[38;5;124;03m    \"\"\"\u001B[39;00m\n\u001B[1;32m    551\u001B[0m     device_type \u001B[38;5;241m=\u001B[39m device\u001B[38;5;241m.\u001B[39mtype \u001B[38;5;28;01mif\u001B[39;00m \u001B[38;5;28misinstance\u001B[39m(device, torch\u001B[38;5;241m.\u001B[39mdevice) \u001B[38;5;28;01melse\u001B[39;00m device\n",
      "File \u001B[0;32m~/anaconda3/lib/python3.11/site-packages/torch/nn/modules/module.py:1518\u001B[0m, in \u001B[0;36mModule._wrapped_call_impl\u001B[0;34m(self, *args, **kwargs)\u001B[0m\n\u001B[1;32m   1516\u001B[0m     \u001B[38;5;28;01mreturn\u001B[39;00m \u001B[38;5;28mself\u001B[39m\u001B[38;5;241m.\u001B[39m_compiled_call_impl(\u001B[38;5;241m*\u001B[39margs, \u001B[38;5;241m*\u001B[39m\u001B[38;5;241m*\u001B[39mkwargs)  \u001B[38;5;66;03m# type: ignore[misc]\u001B[39;00m\n\u001B[1;32m   1517\u001B[0m \u001B[38;5;28;01melse\u001B[39;00m:\n\u001B[0;32m-> 1518\u001B[0m     \u001B[38;5;28;01mreturn\u001B[39;00m \u001B[38;5;28mself\u001B[39m\u001B[38;5;241m.\u001B[39m_call_impl(\u001B[38;5;241m*\u001B[39margs, \u001B[38;5;241m*\u001B[39m\u001B[38;5;241m*\u001B[39mkwargs)\n",
      "File \u001B[0;32m~/anaconda3/lib/python3.11/site-packages/torch/nn/modules/module.py:1527\u001B[0m, in \u001B[0;36mModule._call_impl\u001B[0;34m(self, *args, **kwargs)\u001B[0m\n\u001B[1;32m   1522\u001B[0m \u001B[38;5;66;03m# If we don't have any hooks, we want to skip the rest of the logic in\u001B[39;00m\n\u001B[1;32m   1523\u001B[0m \u001B[38;5;66;03m# this function, and just call forward.\u001B[39;00m\n\u001B[1;32m   1524\u001B[0m \u001B[38;5;28;01mif\u001B[39;00m \u001B[38;5;129;01mnot\u001B[39;00m (\u001B[38;5;28mself\u001B[39m\u001B[38;5;241m.\u001B[39m_backward_hooks \u001B[38;5;129;01mor\u001B[39;00m \u001B[38;5;28mself\u001B[39m\u001B[38;5;241m.\u001B[39m_backward_pre_hooks \u001B[38;5;129;01mor\u001B[39;00m \u001B[38;5;28mself\u001B[39m\u001B[38;5;241m.\u001B[39m_forward_hooks \u001B[38;5;129;01mor\u001B[39;00m \u001B[38;5;28mself\u001B[39m\u001B[38;5;241m.\u001B[39m_forward_pre_hooks\n\u001B[1;32m   1525\u001B[0m         \u001B[38;5;129;01mor\u001B[39;00m _global_backward_pre_hooks \u001B[38;5;129;01mor\u001B[39;00m _global_backward_hooks\n\u001B[1;32m   1526\u001B[0m         \u001B[38;5;129;01mor\u001B[39;00m _global_forward_hooks \u001B[38;5;129;01mor\u001B[39;00m _global_forward_pre_hooks):\n\u001B[0;32m-> 1527\u001B[0m     \u001B[38;5;28;01mreturn\u001B[39;00m forward_call(\u001B[38;5;241m*\u001B[39margs, \u001B[38;5;241m*\u001B[39m\u001B[38;5;241m*\u001B[39mkwargs)\n\u001B[1;32m   1529\u001B[0m \u001B[38;5;28;01mtry\u001B[39;00m:\n\u001B[1;32m   1530\u001B[0m     result \u001B[38;5;241m=\u001B[39m \u001B[38;5;28;01mNone\u001B[39;00m\n",
      "Cell \u001B[0;32mIn[10], line 13\u001B[0m, in \u001B[0;36mLinear_Model.forward\u001B[0;34m(self, x)\u001B[0m\n\u001B[1;32m     11\u001B[0m \u001B[38;5;28;01mdef\u001B[39;00m \u001B[38;5;21mforward\u001B[39m(\u001B[38;5;28mself\u001B[39m, x):\n\u001B[1;32m     12\u001B[0m     x \u001B[38;5;241m=\u001B[39m \u001B[38;5;28mself\u001B[39m\u001B[38;5;241m.\u001B[39mflatten(x)\n\u001B[0;32m---> 13\u001B[0m     x \u001B[38;5;241m=\u001B[39m \u001B[38;5;28mself\u001B[39m\u001B[38;5;241m.\u001B[39mrelu1(\u001B[38;5;28mself\u001B[39m\u001B[38;5;241m.\u001B[39mln1(x))  \n\u001B[1;32m     14\u001B[0m     x \u001B[38;5;241m=\u001B[39m \u001B[38;5;28mself\u001B[39m\u001B[38;5;241m.\u001B[39mrelu2(\u001B[38;5;28mself\u001B[39m\u001B[38;5;241m.\u001B[39mln2(x))\n\u001B[1;32m     15\u001B[0m     x \u001B[38;5;241m=\u001B[39m \u001B[38;5;28mself\u001B[39m\u001B[38;5;241m.\u001B[39msoftmax(\u001B[38;5;28mself\u001B[39m\u001B[38;5;241m.\u001B[39mln3(x))\n",
      "File \u001B[0;32m~/anaconda3/lib/python3.11/site-packages/torch/nn/modules/module.py:1518\u001B[0m, in \u001B[0;36mModule._wrapped_call_impl\u001B[0;34m(self, *args, **kwargs)\u001B[0m\n\u001B[1;32m   1516\u001B[0m     \u001B[38;5;28;01mreturn\u001B[39;00m \u001B[38;5;28mself\u001B[39m\u001B[38;5;241m.\u001B[39m_compiled_call_impl(\u001B[38;5;241m*\u001B[39margs, \u001B[38;5;241m*\u001B[39m\u001B[38;5;241m*\u001B[39mkwargs)  \u001B[38;5;66;03m# type: ignore[misc]\u001B[39;00m\n\u001B[1;32m   1517\u001B[0m \u001B[38;5;28;01melse\u001B[39;00m:\n\u001B[0;32m-> 1518\u001B[0m     \u001B[38;5;28;01mreturn\u001B[39;00m \u001B[38;5;28mself\u001B[39m\u001B[38;5;241m.\u001B[39m_call_impl(\u001B[38;5;241m*\u001B[39margs, \u001B[38;5;241m*\u001B[39m\u001B[38;5;241m*\u001B[39mkwargs)\n",
      "File \u001B[0;32m~/anaconda3/lib/python3.11/site-packages/torch/nn/modules/module.py:1527\u001B[0m, in \u001B[0;36mModule._call_impl\u001B[0;34m(self, *args, **kwargs)\u001B[0m\n\u001B[1;32m   1522\u001B[0m \u001B[38;5;66;03m# If we don't have any hooks, we want to skip the rest of the logic in\u001B[39;00m\n\u001B[1;32m   1523\u001B[0m \u001B[38;5;66;03m# this function, and just call forward.\u001B[39;00m\n\u001B[1;32m   1524\u001B[0m \u001B[38;5;28;01mif\u001B[39;00m \u001B[38;5;129;01mnot\u001B[39;00m (\u001B[38;5;28mself\u001B[39m\u001B[38;5;241m.\u001B[39m_backward_hooks \u001B[38;5;129;01mor\u001B[39;00m \u001B[38;5;28mself\u001B[39m\u001B[38;5;241m.\u001B[39m_backward_pre_hooks \u001B[38;5;129;01mor\u001B[39;00m \u001B[38;5;28mself\u001B[39m\u001B[38;5;241m.\u001B[39m_forward_hooks \u001B[38;5;129;01mor\u001B[39;00m \u001B[38;5;28mself\u001B[39m\u001B[38;5;241m.\u001B[39m_forward_pre_hooks\n\u001B[1;32m   1525\u001B[0m         \u001B[38;5;129;01mor\u001B[39;00m _global_backward_pre_hooks \u001B[38;5;129;01mor\u001B[39;00m _global_backward_hooks\n\u001B[1;32m   1526\u001B[0m         \u001B[38;5;129;01mor\u001B[39;00m _global_forward_hooks \u001B[38;5;129;01mor\u001B[39;00m _global_forward_pre_hooks):\n\u001B[0;32m-> 1527\u001B[0m     \u001B[38;5;28;01mreturn\u001B[39;00m forward_call(\u001B[38;5;241m*\u001B[39margs, \u001B[38;5;241m*\u001B[39m\u001B[38;5;241m*\u001B[39mkwargs)\n\u001B[1;32m   1529\u001B[0m \u001B[38;5;28;01mtry\u001B[39;00m:\n\u001B[1;32m   1530\u001B[0m     result \u001B[38;5;241m=\u001B[39m \u001B[38;5;28;01mNone\u001B[39;00m\n",
      "File \u001B[0;32m~/anaconda3/lib/python3.11/site-packages/torch/nn/modules/linear.py:114\u001B[0m, in \u001B[0;36mLinear.forward\u001B[0;34m(self, input)\u001B[0m\n\u001B[1;32m    113\u001B[0m \u001B[38;5;28;01mdef\u001B[39;00m \u001B[38;5;21mforward\u001B[39m(\u001B[38;5;28mself\u001B[39m, \u001B[38;5;28minput\u001B[39m: Tensor) \u001B[38;5;241m-\u001B[39m\u001B[38;5;241m>\u001B[39m Tensor:\n\u001B[0;32m--> 114\u001B[0m     \u001B[38;5;28;01mreturn\u001B[39;00m F\u001B[38;5;241m.\u001B[39mlinear(\u001B[38;5;28minput\u001B[39m, \u001B[38;5;28mself\u001B[39m\u001B[38;5;241m.\u001B[39mweight, \u001B[38;5;28mself\u001B[39m\u001B[38;5;241m.\u001B[39mbias)\n",
      "\u001B[0;31mKeyboardInterrupt\u001B[0m: "
     ]
    }
   ],
   "source": [
    "training_and_evaluating(model = linear_model, optimizer = optimizer, loss_type=loss_type, device = device)"
   ],
   "metadata": {
    "collapsed": false
   },
   "id": "106cadf6f0abf190"
  },
  {
   "cell_type": "code",
   "execution_count": null,
   "outputs": [],
   "source": [],
   "metadata": {
    "collapsed": false
   },
   "id": "e887d3f50690df21"
  }
 ],
 "metadata": {
  "kernelspec": {
   "display_name": "Python 3",
   "language": "python",
   "name": "python3"
  },
  "language_info": {
   "codemirror_mode": {
    "name": "ipython",
    "version": 2
   },
   "file_extension": ".py",
   "mimetype": "text/x-python",
   "name": "python",
   "nbconvert_exporter": "python",
   "pygments_lexer": "ipython2",
   "version": "2.7.6"
  }
 },
 "nbformat": 4,
 "nbformat_minor": 5
}
