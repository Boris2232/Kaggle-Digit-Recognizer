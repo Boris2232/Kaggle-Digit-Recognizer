{
 "cells": [
  {
   "cell_type": "code",
   "execution_count": 18,
   "id": "initial_id",
   "metadata": {
    "collapsed": true,
    "ExecuteTime": {
     "end_time": "2024-07-26T08:03:20.328303Z",
     "start_time": "2024-07-26T08:03:20.319268Z"
    }
   },
   "outputs": [],
   "source": [
    "from torch.utils.data import random_split, DataLoader, Dataset\n",
    "from ignite.engine import create_supervised_trainer, create_supervised_evaluator, Engine\n",
    "from ignite.metrics import Accuracy, Loss, Precision, Recall\n",
    "from IPython.display import clear_output\n",
    "import pandas as pd\n",
    "import torch.nn as nn\n",
    "from torchsummary import summary\n",
    "import matplotlib.pyplot as plt\n",
    "import numpy as np\n",
    "from torch.utils.data import DataLoader\n",
    "import torch\n",
    "from torchvision import transforms\n",
    "from torch.utils.data import Dataset\n",
    "from PIL import Image\n",
    "from ignite.engine import Events"
   ]
  },
  {
   "cell_type": "code",
   "execution_count": 19,
   "outputs": [],
   "source": [
    "BATCH_SIZE = 128\n",
    "learning_rate = 1e-3\n",
    "device = 'cuda:0' if torch.cuda.is_available() else 'cpu'"
   ],
   "metadata": {
    "collapsed": false,
    "ExecuteTime": {
     "end_time": "2024-07-26T08:03:20.493227Z",
     "start_time": "2024-07-26T08:03:20.486066Z"
    }
   },
   "id": "c2b910b33a35a487"
  },
  {
   "cell_type": "code",
   "execution_count": 20,
   "outputs": [
    {
     "data": {
      "text/plain": "   label  pixel0  pixel1  pixel2  pixel3  pixel4  pixel5  pixel6  pixel7  \\\n0      1       0       0       0       0       0       0       0       0   \n\n   pixel8  ...  pixel774  pixel775  pixel776  pixel777  pixel778  pixel779  \\\n0       0  ...         0         0         0         0         0         0   \n\n   pixel780  pixel781  pixel782  pixel783  \n0         0         0         0         0  \n\n[1 rows x 785 columns]",
      "text/html": "<div>\n<style scoped>\n    .dataframe tbody tr th:only-of-type {\n        vertical-align: middle;\n    }\n\n    .dataframe tbody tr th {\n        vertical-align: top;\n    }\n\n    .dataframe thead th {\n        text-align: right;\n    }\n</style>\n<table border=\"1\" class=\"dataframe\">\n  <thead>\n    <tr style=\"text-align: right;\">\n      <th></th>\n      <th>label</th>\n      <th>pixel0</th>\n      <th>pixel1</th>\n      <th>pixel2</th>\n      <th>pixel3</th>\n      <th>pixel4</th>\n      <th>pixel5</th>\n      <th>pixel6</th>\n      <th>pixel7</th>\n      <th>pixel8</th>\n      <th>...</th>\n      <th>pixel774</th>\n      <th>pixel775</th>\n      <th>pixel776</th>\n      <th>pixel777</th>\n      <th>pixel778</th>\n      <th>pixel779</th>\n      <th>pixel780</th>\n      <th>pixel781</th>\n      <th>pixel782</th>\n      <th>pixel783</th>\n    </tr>\n  </thead>\n  <tbody>\n    <tr>\n      <th>0</th>\n      <td>1</td>\n      <td>0</td>\n      <td>0</td>\n      <td>0</td>\n      <td>0</td>\n      <td>0</td>\n      <td>0</td>\n      <td>0</td>\n      <td>0</td>\n      <td>0</td>\n      <td>...</td>\n      <td>0</td>\n      <td>0</td>\n      <td>0</td>\n      <td>0</td>\n      <td>0</td>\n      <td>0</td>\n      <td>0</td>\n      <td>0</td>\n      <td>0</td>\n      <td>0</td>\n    </tr>\n  </tbody>\n</table>\n<p>1 rows × 785 columns</p>\n</div>"
     },
     "execution_count": 20,
     "metadata": {},
     "output_type": "execute_result"
    }
   ],
   "source": [
    "train_df, test_df = pd.read_csv('digit-recognizer/train.csv'), pd.read_csv('digit-recognizer/test.csv')\n",
    "train_df.head(1)"
   ],
   "metadata": {
    "collapsed": false,
    "ExecuteTime": {
     "end_time": "2024-07-26T08:03:22.416811Z",
     "start_time": "2024-07-26T08:03:20.927069Z"
    }
   },
   "id": "fc95a9d1a71cf97e"
  },
  {
   "cell_type": "markdown",
   "source": [
    "# Dataset Preparation"
   ],
   "metadata": {
    "collapsed": false
   },
   "id": "159acfe4e1fba98d"
  },
  {
   "cell_type": "code",
   "execution_count": 21,
   "outputs": [],
   "source": [
    "from PIL import Image\n",
    "from torchvision import transforms\n",
    "import numpy as np\n",
    "import pandas as pd\n",
    "from torch.utils.data import Dataset\n",
    "\n",
    "class Data(Dataset):\n",
    "    def __init__(self, data_, transform):\n",
    "        self.data = data_\n",
    "        self.transform = transform\n",
    "\n",
    "    def __getitem__(self, idx):\n",
    "        sample = self.data.iloc[idx]\n",
    "        if 'label' in self.data.columns:\n",
    "            label = sample['label']\n",
    "            pixels = np.array(sample[1:].values).astype(np.uint8).reshape(28, 28)\n",
    "        else:\n",
    "            label = ''\n",
    "            pixels = np.array(sample.values).astype(np.uint8).reshape(28, 28)\n",
    "        image = Image.fromarray(pixels)\n",
    "        if self.transform:\n",
    "            image = self.transform(image)\n",
    "        return image, label\n",
    "            \n",
    "\n",
    "    def show_images(self, idx):\n",
    "        img = self.data.iloc[idx]\n",
    "        if 'label' in self.data.columns:\n",
    "            pixels = np.array(img[1:].values).astype(np.uint8).reshape(28, 28) \n",
    "        else:\n",
    "            pixels = np.array(img.values).astype(np.uint8).reshape(28, 28) \n",
    "        image = Image.fromarray(pixels)\n",
    "        return image\n",
    "\n",
    "    def __len__(self):\n",
    "        return len(self.data)"
   ],
   "metadata": {
    "collapsed": false,
    "ExecuteTime": {
     "end_time": "2024-07-26T08:03:22.945502Z",
     "start_time": "2024-07-26T08:03:22.942918Z"
    }
   },
   "id": "74234b9b12a8dd01"
  },
  {
   "cell_type": "code",
   "execution_count": 22,
   "outputs": [],
   "source": [
    "transform_ = transforms.Compose([\n",
    "    transforms.Resize((28, 28)),\n",
    "    transforms.ToTensor(),\n",
    "])\n",
    "data = Data(data_ = train_df, transform=transform_)\n",
    "test = Data(data_ = test_df, transform=transform_)"
   ],
   "metadata": {
    "collapsed": false,
    "ExecuteTime": {
     "end_time": "2024-07-26T08:03:23.197328Z",
     "start_time": "2024-07-26T08:03:23.176831Z"
    }
   },
   "id": "9c44f2294c8ce8be"
  },
  {
   "cell_type": "code",
   "execution_count": 23,
   "outputs": [],
   "source": [
    "def show_transformed(dataset):\n",
    "    figure = plt.figure(figsize=(8, 8))\n",
    "    cols, rows = 3, 3\n",
    "    for i in range(1, cols * rows + 1):\n",
    "        # to pick random images\n",
    "        sample_idx = torch.randint(len(dataset), size=(1,)).item()\n",
    "        _, label = dataset[sample_idx]\n",
    "        figure.add_subplot(rows, cols, i)\n",
    "        plt.title(label)\n",
    "        plt.axis(\"off\")\n",
    "        # call a function\n",
    "        plt.imshow(dataset.show_images(sample_idx))\n",
    "    plt.show()"
   ],
   "metadata": {
    "collapsed": false,
    "ExecuteTime": {
     "end_time": "2024-07-26T08:03:23.326482Z",
     "start_time": "2024-07-26T08:03:23.322029Z"
    }
   },
   "id": "654f4a931a736598"
  },
  {
   "cell_type": "code",
   "execution_count": 24,
   "outputs": [
    {
     "data": {
      "text/plain": "<Figure size 800x800 with 9 Axes>",
      "image/png": "[encoded data removed]"
     },
     "metadata": {},
     "output_type": "display_data"
    }
   ],
   "source": [
    "show_transformed(dataset = test)"
   ],
   "metadata": {
    "collapsed": false,
    "ExecuteTime": {
     "end_time": "2024-07-26T08:03:23.971719Z",
     "start_time": "2024-07-26T08:03:23.873698Z"
    }
   },
   "id": "bb09cca1a8532de8"
  },
  {
   "cell_type": "markdown",
   "source": [
    "# Train Validation Split"
   ],
   "metadata": {
    "collapsed": false
   },
   "id": "584f2b63a6808691"
  },
  {
   "cell_type": "code",
   "execution_count": 25,
   "outputs": [],
   "source": [
    "dataset_length = len(data)\n",
    "train_size = int(0.95 * dataset_length)\n",
    "test_size = dataset_length - train_size\n",
    "train_df, validation_df = random_split(data, [train_size, test_size])"
   ],
   "metadata": {
    "collapsed": false,
    "ExecuteTime": {
     "end_time": "2024-07-26T08:03:24.831089Z",
     "start_time": "2024-07-26T08:03:24.827329Z"
    }
   },
   "id": "814cb7fe6280d8ee"
  },
  {
   "cell_type": "code",
   "execution_count": 26,
   "outputs": [],
   "source": [
    "train_loader = DataLoader(train_df, batch_size=BATCH_SIZE)\n",
    "validation_loader = DataLoader(validation_df, batch_size=BATCH_SIZE)"
   ],
   "metadata": {
    "collapsed": false,
    "ExecuteTime": {
     "end_time": "2024-07-26T08:03:25.163220Z",
     "start_time": "2024-07-26T08:03:25.158385Z"
    }
   },
   "id": "57afa176df3b8e9b"
  },
  {
   "cell_type": "markdown",
   "source": [
    "# The first model type: fully connected network"
   ],
   "metadata": {
    "collapsed": false
   },
   "id": "2447ecc3a31034d1"
  },
  {
   "cell_type": "code",
   "execution_count": 27,
   "outputs": [],
   "source": [
    "class Linear_Model(nn.Module):\n",
    "    def __init__(self, *args, **kwargs):\n",
    "        super().__init__(*args, **kwargs)\n",
    "        self.flatten = nn.Flatten()\n",
    "        self.ln1 = nn.Linear(in_features=28*28, out_features=256)\n",
    "        self.relu1 = nn.ReLU(inplace=True)\n",
    "        self.ln2 = nn.Linear(in_features=256, out_features=512)\n",
    "        self.relu2 = nn.ReLU(inplace=True)\n",
    "        self.ln3 = nn.Linear(in_features=512, out_features=10)\n",
    "        self.softmax = nn.Softmax()\n",
    "    def forward(self, x):\n",
    "        x = self.flatten(x)\n",
    "        x = self.relu1(self.ln1(x))  \n",
    "        x = self.relu2(self.ln2(x))\n",
    "        x = self.softmax(self.ln3(x))\n",
    "        return x"
   ],
   "metadata": {
    "collapsed": false,
    "ExecuteTime": {
     "end_time": "2024-07-26T08:03:25.948730Z",
     "start_time": "2024-07-26T08:03:25.859686Z"
    }
   },
   "id": "89c3b6baf0ca5b81"
  },
  {
   "cell_type": "code",
   "execution_count": 28,
   "outputs": [
    {
     "name": "stdout",
     "output_type": "stream",
     "text": [
      "----------------------------------------------------------------\n",
      "        Layer (type)               Output Shape         Param #\n",
      "================================================================\n",
      "           Flatten-1                  [-1, 784]               0\n",
      "            Linear-2                  [-1, 256]         200,960\n",
      "              ReLU-3                  [-1, 256]               0\n",
      "            Linear-4                  [-1, 512]         131,584\n",
      "              ReLU-5                  [-1, 512]               0\n",
      "            Linear-6                   [-1, 10]           5,130\n",
      "           Softmax-7                   [-1, 10]               0\n",
      "================================================================\n",
      "Total params: 337,674\n",
      "Trainable params: 337,674\n",
      "Non-trainable params: 0\n",
      "----------------------------------------------------------------\n",
      "Input size (MB): 0.00\n",
      "Forward/backward pass size (MB): 0.02\n",
      "Params size (MB): 1.29\n",
      "Estimated Total Size (MB): 1.31\n",
      "----------------------------------------------------------------\n",
      "None\n"
     ]
    },
    {
     "name": "stderr",
     "output_type": "stream",
     "text": [
      "/Users/boris/anaconda3/lib/python3.11/site-packages/torch/nn/modules/module.py:1518: UserWarning: Implicit dimension choice for softmax has been deprecated. Change the call to include dim=X as an argument.\n",
      "  return self._call_impl(*args, **kwargs)\n"
     ]
    }
   ],
   "source": [
    "linear_model = Linear_Model().to(device)\n",
    "image = torch.rand((1, 1, 28, 28))\n",
    "output = linear_model(image)\n",
    "print(summary(linear_model,input_size=(1,28,28)))"
   ],
   "metadata": {
    "collapsed": false,
    "ExecuteTime": {
     "end_time": "2024-07-26T08:03:26.140415Z",
     "start_time": "2024-07-26T08:03:26.133013Z"
    }
   },
   "id": "6eca9e8db6c7dae8"
  },
  {
   "cell_type": "markdown",
   "source": [
    "# Traininig and evaluation \n"
   ],
   "metadata": {
    "collapsed": false
   },
   "id": "450cf4c9b6e77361"
  },
  {
   "cell_type": "code",
   "execution_count": 29,
   "outputs": [],
   "source": [
    "def draw_plots(train_accuracy, validation_accuracy, train_loss, validation_loss):\n",
    "    fig, axes = plt.subplots(2, 2, figsize=(15, 10))\n",
    "    \n",
    "    axes[0][0].plot(train_accuracy, color = 'blue', linestyle = '--', label = 'Train Accuracy')\n",
    "    axes[0][0].set_ylabel('Accuracy')\n",
    "    axes[0][0].set_xlabel('Epochs')\n",
    "    axes[0][0].legend()\n",
    "    \n",
    "    axes[0][1].plot(validation_accuracy, color = 'red', linestyle = '--', label = 'Validation Accuracy')\n",
    "    axes[0][1].set_ylabel('Accuracy')\n",
    "    axes[0][1].set_xlabel('Epochs')\n",
    "    axes[0][1].legend()\n",
    "    \n",
    "    axes[1][0].plot(train_loss, color = 'blue', linestyle = '--', label = 'Train Loss')\n",
    "    axes[1][0].set_ylabel('Loss')\n",
    "    axes[1][0].set_xlabel('Epochs')\n",
    "    axes[1][0].legend()\n",
    "    \n",
    "    axes[1][1].plot(validation_loss, color = 'red', linestyle = '--', label = 'Validation Loss')\n",
    "    axes[1][1].set_ylabel('Loss')\n",
    "    axes[1][1].set_xlabel('Epochs')\n",
    "    axes[1][1].legend()"
   ],
   "metadata": {
    "collapsed": false,
    "ExecuteTime": {
     "end_time": "2024-07-26T08:03:26.632723Z",
     "start_time": "2024-07-26T08:03:26.628018Z"
    }
   },
   "id": "793595900ab0d1be"
  },
  {
   "cell_type": "code",
   "execution_count": 30,
   "outputs": [],
   "source": [
    "optimizer = torch.optim.Adam(linear_model.parameters(), lr=learning_rate)\n",
    "loss_type = torch.nn.CrossEntropyLoss()\n",
    "epochs = 10\n",
    "train_loss, validation_loss = [], []\n",
    "train_accuracy, validation_accuracy = [], []"
   ],
   "metadata": {
    "collapsed": false,
    "ExecuteTime": {
     "end_time": "2024-07-26T08:03:27.231895Z",
     "start_time": "2024-07-26T08:03:27.226566Z"
    }
   },
   "id": "f6abd47eaa600f6f"
  },
  {
   "cell_type": "code",
   "execution_count": 31,
   "outputs": [],
   "source": [
    "for epoch in range(1, epochs + 1):\n",
    "    \n",
    "    def print_epoch_results(engine, type = ''):\n",
    "        result = \"\\t\".join([f\"{i}:{j}\" for i, j in engine.state.metrics.items()])\n",
    "        print(f\"Results after {type} epoch:\", result)\n",
    "    \n",
    "    def draw_loss_iteration(engine):\n",
    "        "
   ],
   "metadata": {
    "collapsed": false,
    "ExecuteTime": {
     "end_time": "2024-07-26T08:03:27.675125Z",
     "start_time": "2024-07-26T08:03:27.671524Z"
    }
   },
   "id": "91ff1decc95e5f24"
  },
  {
   "cell_type": "markdown",
   "source": [],
   "metadata": {
    "collapsed": false,
    "ExecuteTime": {
     "end_time": "2024-07-26T08:03:50.248853Z",
     "start_time": "2024-07-26T08:03:28.060681Z"
    }
   },
   "id": "45d7d326750c8d6b"
  }
 ],
 "metadata": {
  "kernelspec": {
   "display_name": "Python 3",
   "language": "python",
   "name": "python3"
  },
  "language_info": {
   "codemirror_mode": {
    "name": "ipython",
    "version": 2
   },
   "file_extension": ".py",
   "mimetype": "text/x-python",
   "name": "python",
   "nbconvert_exporter": "python",
   "pygments_lexer": "ipython2",
   "version": "2.7.6"
  }
 },
 "nbformat": 4,
 "nbformat_minor": 5
}
